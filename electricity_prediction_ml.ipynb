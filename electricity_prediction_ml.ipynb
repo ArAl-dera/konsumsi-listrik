{
  "cells": [
    {
      "cell_type": "code",
      "source": [
        "import pandas as pd\n",
        "import numpy as np\n",
        "import matplotlib.pyplot as plt\n",
        "import seaborn as sns\n",
        "from sklearn.model_selection import train_test_split\n",
        "from sklearn.linear_model import LinearRegression\n",
        "from sklearn.tree import DecisionTreeRegressor\n",
        "from sklearn.metrics import mean_squared_error"
      ],
      "metadata": {
        "id": "XJgDXRU4ty9R"
      },
      "execution_count": 17,
      "outputs": []
    },
    {
      "cell_type": "code",
      "source": [
        "def load_data(file_path):\n",
        "    data = pd.read_csv(file_path)\n",
        "    data['Datetime'] = pd.to_datetime(data['Datetime'])\n",
        "    data['Total_consumption'] = data['Sub_metering_1'] + data['Sub_metering_2'] + data['Sub_metering_3']\n",
        "    data['Month'] = data['Datetime'].dt.month\n",
        "    data['Year'] = data['Datetime'].dt.year\n",
        "    return data"
      ],
      "metadata": {
        "id": "sB6wiRbsuTIh"
      },
      "execution_count": 18,
      "outputs": []
    },
    {
      "cell_type": "code",
      "source": [
        "def preprocess_data(data):\n",
        "    grouped_data = data.groupby(['Year', 'Month'], as_index=False).agg({\n",
        "        'Total_consumption': 'sum',\n",
        "        'Voltage': 'mean',\n",
        "        'Global_intensity': 'mean',\n",
        "        'power_factor': 'mean'\n",
        "    })\n",
        "    return grouped_data"
      ],
      "metadata": {
        "id": "3Rb6ZnnOuVkA"
      },
      "execution_count": 19,
      "outputs": []
    },
    {
      "cell_type": "code",
      "source": [
        "def train_model(data):\n",
        "    X = data[['Voltage', 'Global_intensity', 'power_factor']]\n",
        "    y = data['Total_consumption']\n",
        "\n",
        "    X_train, X_test, y_train, y_test = train_test_split(X, y, test_size=0.2, random_state=42)\n",
        "\n",
        "    # Linear Regression\n",
        "    lr = LinearRegression()\n",
        "    lr.fit(X_train, y_train)\n",
        "    lr_pred = lr.predict(X_test)\n",
        "    lr_rmse = np.sqrt(mean_squared_error(y_test, lr_pred))\n",
        "\n",
        "    # Decision Tree\n",
        "    dt = DecisionTreeRegressor(random_state=42)\n",
        "    dt.fit(X_train, y_train)\n",
        "    dt_pred = dt.predict(X_test)\n",
        "    dt_rmse = np.sqrt(mean_squared_error(y_test, dt_pred))\n",
        "\n",
        "    return lr, dt, lr_rmse, dt_rmse, X_train.columns"
      ],
      "metadata": {
        "id": "1mPv2YCQuXyJ"
      },
      "execution_count": 20,
      "outputs": []
    }
  ],
  "metadata": {
    "colab": {
      "provenance": []
    },
    "kernelspec": {
      "display_name": "Python 3",
      "name": "python3"
    },
    "language_info": {
      "name": "python"
    }
  },
  "nbformat": 4,
  "nbformat_minor": 0
}
